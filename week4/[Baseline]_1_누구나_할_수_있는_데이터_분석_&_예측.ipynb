{
  "nbformat": 4,
  "nbformat_minor": 0,
  "metadata": {
    "interpreter": {
      "hash": "8207dccf39e710c758db0a3115e8b6364f9af698460a2f758c1d8836f75fc2ad"
    },
    "kernelspec": {
      "display_name": "Python 3",
      "language": "python",
      "name": "python3"
    },
    "language_info": {
      "codemirror_mode": {
        "name": "ipython",
        "version": 3
      },
      "file_extension": ".py",
      "mimetype": "text/x-python",
      "name": "python",
      "nbconvert_exporter": "python",
      "pygments_lexer": "ipython3",
      "version": "3.8.3"
    },
    "colab": {
      "name": "[Baseline]_1. 누구나 할 수 있는 데이터 분석 & 예측.ipynb",
      "provenance": [],
      "include_colab_link": true
    }
  },
  "cells": [
    {
      "cell_type": "markdown",
      "metadata": {
        "id": "view-in-github",
        "colab_type": "text"
      },
      "source": [
        "<a href=\"https://colab.research.google.com/github/gnbhub/GnB20212_Python_senior/blob/master/week4/%5BBaseline%5D_1_%EB%88%84%EA%B5%AC%EB%82%98_%ED%95%A0_%EC%88%98_%EC%9E%88%EB%8A%94_%EB%8D%B0%EC%9D%B4%ED%84%B0_%EB%B6%84%EC%84%9D_%26_%EC%98%88%EC%B8%A1.ipynb\" target=\"_parent\"><img src=\"https://colab.research.google.com/assets/colab-badge.svg\" alt=\"Open In Colab\"/></a>"
      ]
    },
    {
      "cell_type": "markdown",
      "metadata": {
        "id": "kvQGl16c4EIW"
      },
      "source": [
        "# 누구나 할 수 있는 데이터 분석\n",
        "\n",
        "딥러닝, 머신러닝, 모델, 학습, 회귀분석 .... 다 몰라도 괜찮습니다!\n",
        "\n",
        "누구나 할 수 있는 방식으로 간단하게 데이터 분석 & 예측을 진행해보겠습니다."
      ]
    },
    {
      "cell_type": "markdown",
      "metadata": {
        "id": "BEuUk27g4EId"
      },
      "source": [
        "# 1. 데이터 불러오기\n",
        "\n",
        "가장 먼저 해야 할 일은 분석하려는 데이터를 우리의 작업대로 가져오는 일입니다.\n",
        "\n",
        "이를 위해서 파이썬 라이브러리 중 하나인 Pandas를 이용합니다.\n",
        "\n",
        "pandas 라이브러리는 엑셀과 같은 행과 열로 이루어진 테이블(table) 데이터를 편하게 다루도록 해줍니다."
      ]
    },
    {
      "cell_type": "code",
      "metadata": {
        "colab": {
          "base_uri": "https://localhost:8080/",
          "height": 206
        },
        "id": "f8YvHkFK4EIf",
        "outputId": "825b20b7-38fe-4d32-cac2-8f3724b48ce5"
      },
      "source": [
        "import pandas as pd\n",
        "\n",
        "# csv 형식으로 된 데이터 파일을 읽어옵니다.\n",
        "train = pd.read_csv('iris.csv')\n",
        "\n",
        "# 데이터의 맨 앞 5 줄을 표시합니다.\n",
        "train.head()"
      ],
      "execution_count": null,
      "outputs": [
        {
          "output_type": "execute_result",
          "data": {
            "text/html": [
              "<div>\n",
              "<style scoped>\n",
              "    .dataframe tbody tr th:only-of-type {\n",
              "        vertical-align: middle;\n",
              "    }\n",
              "\n",
              "    .dataframe tbody tr th {\n",
              "        vertical-align: top;\n",
              "    }\n",
              "\n",
              "    .dataframe thead th {\n",
              "        text-align: right;\n",
              "    }\n",
              "</style>\n",
              "<table border=\"1\" class=\"dataframe\">\n",
              "  <thead>\n",
              "    <tr style=\"text-align: right;\">\n",
              "      <th></th>\n",
              "      <th>sepal.length</th>\n",
              "      <th>sepal.width</th>\n",
              "      <th>petal.length</th>\n",
              "      <th>petal.width</th>\n",
              "      <th>variety</th>\n",
              "    </tr>\n",
              "  </thead>\n",
              "  <tbody>\n",
              "    <tr>\n",
              "      <th>0</th>\n",
              "      <td>5.1</td>\n",
              "      <td>3.5</td>\n",
              "      <td>1.4</td>\n",
              "      <td>0.2</td>\n",
              "      <td>Setosa</td>\n",
              "    </tr>\n",
              "    <tr>\n",
              "      <th>1</th>\n",
              "      <td>4.9</td>\n",
              "      <td>3.0</td>\n",
              "      <td>1.4</td>\n",
              "      <td>0.2</td>\n",
              "      <td>Setosa</td>\n",
              "    </tr>\n",
              "    <tr>\n",
              "      <th>2</th>\n",
              "      <td>4.7</td>\n",
              "      <td>3.2</td>\n",
              "      <td>1.3</td>\n",
              "      <td>0.2</td>\n",
              "      <td>Setosa</td>\n",
              "    </tr>\n",
              "    <tr>\n",
              "      <th>3</th>\n",
              "      <td>4.6</td>\n",
              "      <td>3.1</td>\n",
              "      <td>1.5</td>\n",
              "      <td>0.2</td>\n",
              "      <td>Setosa</td>\n",
              "    </tr>\n",
              "    <tr>\n",
              "      <th>4</th>\n",
              "      <td>5.0</td>\n",
              "      <td>3.6</td>\n",
              "      <td>1.4</td>\n",
              "      <td>0.2</td>\n",
              "      <td>Setosa</td>\n",
              "    </tr>\n",
              "  </tbody>\n",
              "</table>\n",
              "</div>"
            ],
            "text/plain": [
              "   sepal.length  sepal.width  petal.length  petal.width variety\n",
              "0           5.1          3.5           1.4          0.2  Setosa\n",
              "1           4.9          3.0           1.4          0.2  Setosa\n",
              "2           4.7          3.2           1.3          0.2  Setosa\n",
              "3           4.6          3.1           1.5          0.2  Setosa\n",
              "4           5.0          3.6           1.4          0.2  Setosa"
            ]
          },
          "metadata": {},
          "execution_count": 2
        }
      ]
    },
    {
      "cell_type": "markdown",
      "metadata": {
        "id": "xBNxRrvz4EIj"
      },
      "source": [
        "데이터를 살펴보면 총 6개의 열(column)이 존재하는 것을 확인할 수 있습니다.\n",
        "\n",
        "데이터를 자세히 살펴보는 것은 EDA 글을 통해 더 자세히 배워봅시다.\n",
        "\n",
        "여기에서는 분석에 초점을 맞추겠습니다."
      ]
    },
    {
      "cell_type": "markdown",
      "metadata": {
        "id": "_C_uqexr4EIk"
      },
      "source": [
        "# 2. 데이터 설명 방정식 만들기\n",
        "\n",
        "데이터 분석이란, 주어진 데이터를 분석하여 데이터들 사이의 관계를 알아내고,\n",
        "\n",
        "이 관계를 통해서 주어지지 않은 데이터를 예측하는 것입니다.\n",
        "\n",
        "이는 방정식을 푸는 일과 똑같습니다.\n",
        "\n",
        "X, Y를 이용해서 만드는 가장 기본적인 방정식을 이용해서 이 말을 이해해봅시다."
      ]
    },
    {
      "cell_type": "markdown",
      "metadata": {
        "id": "35yb8kS44EIl"
      },
      "source": [
        "## Y = aX + b\n",
        "\n",
        "여기서 X는 주어진 데이터를 의미하며,  Y는 주어지지 않은 데이터 (즉, 예측하려는 데이터)를 의미합니다.\n",
        "\n",
        "이번 대회에서는 X란 [꽃의 종류, 꽃잎의 길이, 꽃받침의 길이]이며, Y는 [꽃잎의 너비, 꽃받침의 너비]입니다.\n",
        "\n",
        "우리의 목표는 X에 어떤 a를 곱하고, 어떤 b를 더해야 정확하게 Y를 구할 수 있는지, 그 a와 b를 찾는 것입니다."
      ]
    },
    {
      "cell_type": "markdown",
      "metadata": {
        "id": "WT6snB8y4EIm"
      },
      "source": [
        "## 좀 더 단순하게\n",
        "\n",
        "문제를 단순하게 생각해봅시다.\n",
        "\n",
        "X = [꽃의 종류, 꽃잎의 길이, 꽃받침의 길이] 중에서 [꽃받침의 길이] 만을 이용해서 \n",
        "\n",
        "Y = [꽃잎의 너비, 꽃받침의 너비] 중에서 [꽃받침의 너비] 만을 예측해봅시다."
      ]
    },
    {
      "cell_type": "code",
      "metadata": {
        "colab": {
          "base_uri": "https://localhost:8080/"
        },
        "id": "BKUa36Ks4EIn",
        "outputId": "d94a5e84-55c0-4fa8-c69e-7d7cce2d371a"
      },
      "source": [
        "# 꽃받침의 길이와 너비를 각각 따로 저장합니다.\n",
        "sepal_length = train['sepal.length']\n",
        "sepal_width = train['sepal.width']\n",
        "\n",
        "sepal_width"
      ],
      "execution_count": null,
      "outputs": [
        {
          "output_type": "execute_result",
          "data": {
            "text/plain": [
              "0      3.5\n",
              "1      3.0\n",
              "2      3.2\n",
              "3      3.1\n",
              "4      3.6\n",
              "      ... \n",
              "145    3.0\n",
              "146    2.5\n",
              "147    3.0\n",
              "148    3.4\n",
              "149    3.0\n",
              "Name: sepal.width, Length: 150, dtype: float64"
            ]
          },
          "metadata": {},
          "execution_count": 3
        }
      ]
    },
    {
      "cell_type": "markdown",
      "metadata": {
        "id": "Vv9RmuW84EIp"
      },
      "source": [
        "## a 구하기\n",
        "\n",
        "먼저 꽃받침의 길이와 너비가 어떤 관계를 갖는지, 그 평균 값을 구해봅니다.\n",
        "\n",
        "이 과정은 위 방정식의 a 값을 구하는 것으로 생각할 수 있습니다."
      ]
    },
    {
      "cell_type": "code",
      "metadata": {
        "colab": {
          "base_uri": "https://localhost:8080/"
        },
        "id": "qsJr-J6l4EIq",
        "outputId": "a12497dd-ce35-40e3-ca2c-6285aeb23c8d"
      },
      "source": [
        "import numpy as np\n",
        "\n",
        "# 꽃받침 길이의 평균과 꽃받침 너비의 평균을 구합니다.\n",
        "sepal_length_mean = np.mean(sepal_length)\n",
        "sepal_width_mean = np.mean(sepal_width)\n",
        "\n",
        "# 두 값을 나누어 주어서 꽃받침의 길이와 너비의 관계를 살펴봅니다.\n",
        "print(f\"꽃받침 길이의 평균:{sepal_length_mean:.2f} \\n꽃받침 너비의 평균:{sepal_width_mean:.2f}\")\n",
        "print(f\"따라서 꽃받침 너비는 꽃받침 길이의 평균 {sepal_width_mean/sepal_length_mean:.2f}배 입니다.\")"
      ],
      "execution_count": null,
      "outputs": [
        {
          "output_type": "stream",
          "name": "stdout",
          "text": [
            "꽃받침 길이의 평균:5.84 \n",
            "꽃받침 너비의 평균:3.06\n",
            "따라서 꽃받침 너비는 꽃받침 길이의 평균 0.52배 입니다.\n"
          ]
        }
      ]
    },
    {
      "cell_type": "markdown",
      "metadata": {
        "id": "jlH-UHTQ4EIr"
      },
      "source": [
        "이렇게 보면 우리가 구하고자 하는 Y = [꽃받침의 너비]는  \n",
        "X = [꽃받침의 길이]의 절반 정도의 크기를 가지고 있다고 생각할 수 있습니다.\n",
        "\n",
        "즉, a = 0.5로 생각할 수 있습니다. 이를 바탕으로 방정식을 업데이트 합니다.\n",
        "\n",
        "Y = 0.5 X + b"
      ]
    },
    {
      "cell_type": "markdown",
      "metadata": {
        "id": "7aJjA3k04EIs"
      },
      "source": [
        "## b 구하기\n",
        "\n",
        "이번에는 b를 구해봅시다.\n",
        "\n",
        "a는 X와 Y의 강력한 관계를 나타냈다면, b는 그보다는 약한 관계를 나타냅니다. \n",
        "\n",
        "X와 Y의 관계에서 a만으로는 설명하지 못하는 부분을 구하는 과정이라고 볼 수 있습니다.\n",
        "\n",
        "a를 넣어서 새롭게 업데이트 된 방정식을 사용하면 b를 구할 수 있습니다.\n",
        "\n",
        "Y = 0.5 X + b\n",
        "\n",
        "b = Y - 0.5 X"
      ]
    },
    {
      "cell_type": "code",
      "metadata": {
        "colab": {
          "base_uri": "https://localhost:8080/"
        },
        "id": "XTupzevO4EIt",
        "outputId": "affaf9c1-b7fd-4a7e-d889-474847919c0f"
      },
      "source": [
        "# b = Y - 0.5X 를 그대로 작성합니다. 여기서도 평균값을 이용합니다.\n",
        "b = sepal_width_mean - 0.52 * sepal_length_mean\n",
        "\n",
        "print(f\"업데이트 된 방정식의 b는 {b:.2f} 입니다.\")"
      ],
      "execution_count": null,
      "outputs": [
        {
          "output_type": "stream",
          "name": "stdout",
          "text": [
            "업데이트 된 방정식의 b는 0.02 입니다.\n"
          ]
        }
      ]
    },
    {
      "cell_type": "markdown",
      "metadata": {
        "id": "YjhRN9_X4EIu"
      },
      "source": [
        "## Y = 0.52X + 0.02\n",
        "\n",
        "이렇게 꽃받침 길이를 통해서 꽃받침 너비를 예측할 수 있는 방정식을 찾아냈습니다.\n",
        "\n",
        "이 식을 통해 결과 값들을 예측해봅시다."
      ]
    },
    {
      "cell_type": "code",
      "metadata": {
        "colab": {
          "base_uri": "https://localhost:8080/"
        },
        "id": "VQg4lKpY4EIu",
        "outputId": "edbe48d6-82de-4933-da93-7197ff2cc484"
      },
      "source": [
        "predict_sepal_width = 0.52 * sepal_length + 0.02\n",
        "predict_sepal_width"
      ],
      "execution_count": null,
      "outputs": [
        {
          "output_type": "execute_result",
          "data": {
            "text/plain": [
              "0      2.672\n",
              "1      2.568\n",
              "2      2.464\n",
              "3      2.412\n",
              "4      2.620\n",
              "       ...  \n",
              "145    3.504\n",
              "146    3.296\n",
              "147    3.400\n",
              "148    3.244\n",
              "149    3.088\n",
              "Name: sepal.length, Length: 150, dtype: float64"
            ]
          },
          "metadata": {},
          "execution_count": 7
        }
      ]
    },
    {
      "cell_type": "markdown",
      "metadata": {
        "id": "jtqllrIh4EIv"
      },
      "source": [
        "# 3. sepal_width 예측 결과 평가하기\n",
        "\n",
        "예측값을 만들었다고 데이터 분석이 끝나지는 않습니다.\n",
        "\n",
        "우리가 예측한 값이 얼마나 정확한지 평가하는 과정을 통해 어떤 부분이 부족한지, \n",
        "\n",
        "어떤 부분을 개선해야 더 정확한 예측이 가능한지 살펴봐야 합니다."
      ]
    },
    {
      "cell_type": "markdown",
      "metadata": {
        "id": "tTFYIACR4EIw"
      },
      "source": [
        "이번 대회의 평가 지표(metric)는 MAE, Mean Absolute Error 입니다.\n",
        "\n",
        "MAE는 우리가 예측한 값과 실제 값이 얼마나 차이가 나는지, 그 차이값들의 평균 값을 의미합니다.\n",
        "\n",
        "하지만 단순한 차이값이라고 하면 예측 값이 실제보다 더 큰 경우도 있고, 더 작은 경우도 있기 때문에\n",
        "\n",
        "차이값(error)의 절대값(absolute)들을 구해서 평균(mean)을 낸 것이 MAE 입니다.\n",
        "\n",
        "자세한 수식은 대회의 규칙 탭을 참고해주세요."
      ]
    },
    {
      "cell_type": "code",
      "metadata": {
        "colab": {
          "base_uri": "https://localhost:8080/"
        },
        "id": "VacQttJb4EIw",
        "outputId": "8d6f5949-f484-46c3-bcc5-7513732f2e01"
      },
      "source": [
        "# 대회 규칙 탭의 mae() 함수를 그대로 사용합니다.\n",
        "import numpy as np\n",
        "\n",
        "def MAE(true, pred):\n",
        "    score = np.mean(np.abs(true-pred))\n",
        "    return score\n",
        "\n",
        "# 실제 정답 값을 준비합니다.\n",
        "real_sepal_width = sepal_width.copy()\n",
        "\n",
        "# 정답과 예측 값을 함수에 넣어 결과를 확인합니다.\n",
        "mean_error = MAE(real_sepal_width, predict_sepal_width)\n",
        "\n",
        "print(f\"이 방정식의 평균 에러는 {mean_error:.2f} 입니다.\")"
      ],
      "execution_count": null,
      "outputs": [
        {
          "output_type": "stream",
          "name": "stdout",
          "text": [
            "이 방정식의 평균 에러는 0.55 입니다.\n"
          ]
        }
      ]
    },
    {
      "cell_type": "markdown",
      "metadata": {
        "id": "P85wqmJC4EIx"
      },
      "source": [
        "결과를 보니 이 방정식으로는 평균 0.43 cm 정도의 오차를 내는 정확도로 꽃받침의 너비를 예측하네요.\n",
        "\n",
        "이 정도면 실생활에서 사용하기에 나쁘지는 않은 수준인 듯 합니다."
      ]
    },
    {
      "cell_type": "markdown",
      "metadata": {
        "id": "Yonu2g_k4EIx"
      },
      "source": [
        "# 4. petal_width 방정식 만들기\n",
        "\n",
        "지금까지는 sepal_width를 예측하기 위한 방정식을 만드는 과정이었습니다.\n",
        "\n",
        "이제 같은 방법으로 petal_width도 예측해봅시다."
      ]
    },
    {
      "cell_type": "code",
      "metadata": {
        "colab": {
          "base_uri": "https://localhost:8080/"
        },
        "id": "M9smIdEm4EIy",
        "outputId": "b0519d5a-e8d3-4ab8-b08c-ab6b414a4bed"
      },
      "source": [
        "# 데이터 선택하기\n",
        "petal_length = train['petal.length']\n",
        "petal_width = train['petal.width']\n",
        "\n",
        "# 꽃잎 길이의 평균과 꽃잎 너비의 평균을 구합니다.\n",
        "petal_length_mean = np.mean(petal_length)\n",
        "petal_width_mean = np.mean(petal_width)\n",
        "\n",
        "# 두 값을 나누어 주어서 꽃잎의 길이와 너비의 관계를 살펴봅니다.\n",
        "print(f\"꽃잎 길이의 평균:{petal_length_mean:.2f} \\n꽃잎 너비의 평균:{petal_width_mean:.2f}\")\n",
        "print(f\"따라서 꽃잎 너비는 꽃잎 길이의 평균 {petal_width_mean/petal_length_mean:.2f}배 입니다.\")\n",
        "a = petal_width_mean/petal_length_mean\n",
        "\n",
        "# 꽃받침과 같은 방식으로 b를 구합니다.\n",
        "b = petal_width_mean - 0.32 * petal_length_mean\n",
        "\n",
        "print(f\"업데이트 된 방정식의 b는 {b:.2f} 입니다.\")"
      ],
      "execution_count": null,
      "outputs": [
        {
          "output_type": "stream",
          "name": "stdout",
          "text": [
            "꽃잎 길이의 평균:3.76 \n",
            "꽃잎 너비의 평균:1.20\n",
            "따라서 꽃잎 너비는 꽃잎 길이의 평균 0.32배 입니다.\n",
            "업데이트 된 방정식의 b는 -0.00 입니다.\n"
          ]
        }
      ]
    },
    {
      "cell_type": "markdown",
      "metadata": {
        "id": "o2h6w4OX4EIy"
      },
      "source": [
        "따라서 petal_width에 대한 방정식은\n",
        "\n",
        "Y = 0.32 * X 가 됩니다."
      ]
    },
    {
      "cell_type": "code",
      "metadata": {
        "colab": {
          "base_uri": "https://localhost:8080/"
        },
        "id": "Fi3az-u34EIz",
        "outputId": "067b722f-bc20-407b-accf-5953909c5ae1"
      },
      "source": [
        "# 에측 값을 구합니다.\n",
        "predict_petal_width = 0.32 * petal_length - 0\n",
        "\n",
        "# 실제 정답 값을 준비합니다.\n",
        "real_petal_width = petal_width.copy()\n",
        "\n",
        "# 정답과 예측 값을 함수에 넣어 결과를 확인합니다.\n",
        "mean_error = MAE(real_petal_width, predict_petal_width)\n",
        "\n",
        "print(f\"이 방정식의 평균 에러는 {mean_error:.2f} 입니다.\")"
      ],
      "execution_count": null,
      "outputs": [
        {
          "output_type": "stream",
          "name": "stdout",
          "text": [
            "이 방정식의 평균 에러는 0.21 입니다.\n"
          ]
        }
      ]
    },
    {
      "cell_type": "markdown",
      "metadata": {
        "id": "wZ7AOy1a4EI0"
      },
      "source": [
        "# 5. test_data 예측하기\n",
        "\n",
        "지금까지 train.csv를 통해서 데이터들 사이의 관계를 파악했습니다.\n",
        "\n",
        "그 결과 꽃받침 너비는 꽃받침 길이의 절반 정도라는 것을 파악했고,\n",
        "\n",
        "꽃잎 너비는 꽃잎 길이의 3분의 1 정도라는 것을 파악했습니다.\n",
        "\n",
        "이제 이 관계를 이용해서 실제로 주어지지 않은 데이터를 예측해봅시다.\n",
        "\n"
      ]
    },
    {
      "cell_type": "code",
      "metadata": {
        "id": "I1IPqXXi4EI0",
        "outputId": "e863a306-d654-43bd-f132-fecf23fe60f9"
      },
      "source": [
        "# 우리가 예측하고자 하는 test 데이터를 불러옵니다.\n",
        "test = pd.read_csv('[데이콘 Basic] iris dataset/iris_test.csv')\n",
        "\n",
        "test.head()"
      ],
      "execution_count": null,
      "outputs": [
        {
          "data": {
            "text/html": [
              "<div>\n",
              "<style scoped>\n",
              "    .dataframe tbody tr th:only-of-type {\n",
              "        vertical-align: middle;\n",
              "    }\n",
              "\n",
              "    .dataframe tbody tr th {\n",
              "        vertical-align: top;\n",
              "    }\n",
              "\n",
              "    .dataframe thead th {\n",
              "        text-align: right;\n",
              "    }\n",
              "</style>\n",
              "<table border=\"1\" class=\"dataframe\">\n",
              "  <thead>\n",
              "    <tr style=\"text-align: right;\">\n",
              "      <th></th>\n",
              "      <th>id</th>\n",
              "      <th>species</th>\n",
              "      <th>sepal length (cm)</th>\n",
              "      <th>petal length (cm)</th>\n",
              "    </tr>\n",
              "  </thead>\n",
              "  <tbody>\n",
              "    <tr>\n",
              "      <th>0</th>\n",
              "      <td>0</td>\n",
              "      <td>setosa</td>\n",
              "      <td>5.4</td>\n",
              "      <td>1.7</td>\n",
              "    </tr>\n",
              "    <tr>\n",
              "      <th>1</th>\n",
              "      <td>1</td>\n",
              "      <td>setosa</td>\n",
              "      <td>5.7</td>\n",
              "      <td>1.5</td>\n",
              "    </tr>\n",
              "    <tr>\n",
              "      <th>2</th>\n",
              "      <td>2</td>\n",
              "      <td>setosa</td>\n",
              "      <td>5.3</td>\n",
              "      <td>1.5</td>\n",
              "    </tr>\n",
              "    <tr>\n",
              "      <th>3</th>\n",
              "      <td>3</td>\n",
              "      <td>setosa</td>\n",
              "      <td>5.1</td>\n",
              "      <td>1.9</td>\n",
              "    </tr>\n",
              "    <tr>\n",
              "      <th>4</th>\n",
              "      <td>4</td>\n",
              "      <td>virginica</td>\n",
              "      <td>6.0</td>\n",
              "      <td>4.8</td>\n",
              "    </tr>\n",
              "  </tbody>\n",
              "</table>\n",
              "</div>"
            ],
            "text/plain": [
              "   id    species  sepal length (cm)  petal length (cm)\n",
              "0   0     setosa                5.4                1.7\n",
              "1   1     setosa                5.7                1.5\n",
              "2   2     setosa                5.3                1.5\n",
              "3   3     setosa                5.1                1.9\n",
              "4   4  virginica                6.0                4.8"
            ]
          },
          "execution_count": 11,
          "metadata": {},
          "output_type": "execute_result"
        }
      ]
    },
    {
      "cell_type": "markdown",
      "metadata": {
        "id": "m0ExM5Et4EI1"
      },
      "source": [
        "test 데이터에는 보다시피 sepal width (cm)와 petal width (cm) 가 존재하지 않습니다.\n",
        "\n",
        "하지만 우리는 위에서 sepal length를 이용해서 sepal width를 예측할 수 있는 방정식을 구했고,\n",
        "\n",
        "petal length를 이용해서 petal width를 예측할 수 있는 방정식을 구했습니다. \n",
        "\n",
        "sepal 방정식 : Y = 0.5 X - 0.06   \n",
        "petal 방정식 : Y = 0.3 X - 0.75\n",
        "\n",
        "이제 이 두 식을 사용하여 test 데이터를 채워봅시다."
      ]
    },
    {
      "cell_type": "code",
      "metadata": {
        "id": "A0ppAkgG4EI2",
        "outputId": "602e8105-3714-4a56-ffeb-3251f44f3893"
      },
      "source": [
        "# 예측의 재료를 가져옵니다.\n",
        "sepal_length = train['sepal length (cm)']\n",
        "petal_length = train['petal length (cm)']\n",
        "\n",
        "# 예측을 진행합니다.\n",
        "predict_sepal_width = 0.5 * sepal_length - 0.06\n",
        "predict_petal_width = 0.3 * petal_length - 0.75\n",
        "\n",
        "# 예측 결과를 확인합니다.\n",
        "predict_petal_width"
      ],
      "execution_count": null,
      "outputs": [
        {
          "data": {
            "text/plain": [
              "0    -0.33\n",
              "1     0.60\n",
              "2     0.69\n",
              "3     1.08\n",
              "4    -0.33\n",
              "      ... \n",
              "70    0.63\n",
              "71    0.33\n",
              "72    0.60\n",
              "73    0.24\n",
              "74    0.72\n",
              "Name: petal length (cm), Length: 75, dtype: float64"
            ]
          },
          "execution_count": 12,
          "metadata": {},
          "output_type": "execute_result"
        }
      ]
    },
    {
      "cell_type": "markdown",
      "metadata": {
        "id": "hF8AMKe94EI2"
      },
      "source": [
        "예측 결과가 잘 생성된 것을 확인할 수 있습니다."
      ]
    },
    {
      "cell_type": "markdown",
      "metadata": {
        "id": "W4dSpHob4EI3"
      },
      "source": [
        "# 6. dacon 대회에 제출하기\n",
        "\n",
        "이제 이 예측 결과를 submission.csv 파일로 만들어서 대회 페이지에 제출해보도록 합시다.\n",
        "\n",
        "제출한 뒤 리더보드를 통해 결과를 확인합시다."
      ]
    },
    {
      "cell_type": "code",
      "metadata": {
        "colab": {
          "base_uri": "https://localhost:8080/",
          "height": 206
        },
        "id": "-Ww6zL2y4EI3",
        "outputId": "98b04f58-b552-4fb1-b0d9-4f4382fec921"
      },
      "source": [
        "# 제출용 sample 파일을 불러옵니다.\n",
        "submission = pd.read_csv('sample_submission.csv')\n",
        "submission.head()"
      ],
      "execution_count": null,
      "outputs": [
        {
          "output_type": "execute_result",
          "data": {
            "text/html": [
              "<div>\n",
              "<style scoped>\n",
              "    .dataframe tbody tr th:only-of-type {\n",
              "        vertical-align: middle;\n",
              "    }\n",
              "\n",
              "    .dataframe tbody tr th {\n",
              "        vertical-align: top;\n",
              "    }\n",
              "\n",
              "    .dataframe thead th {\n",
              "        text-align: right;\n",
              "    }\n",
              "</style>\n",
              "<table border=\"1\" class=\"dataframe\">\n",
              "  <thead>\n",
              "    <tr style=\"text-align: right;\">\n",
              "      <th></th>\n",
              "      <th>id</th>\n",
              "      <th>sepal width (cm)</th>\n",
              "      <th>petal width (cm)</th>\n",
              "    </tr>\n",
              "  </thead>\n",
              "  <tbody>\n",
              "    <tr>\n",
              "      <th>0</th>\n",
              "      <td>0</td>\n",
              "      <td>0</td>\n",
              "      <td>0</td>\n",
              "    </tr>\n",
              "    <tr>\n",
              "      <th>1</th>\n",
              "      <td>1</td>\n",
              "      <td>0</td>\n",
              "      <td>0</td>\n",
              "    </tr>\n",
              "    <tr>\n",
              "      <th>2</th>\n",
              "      <td>2</td>\n",
              "      <td>0</td>\n",
              "      <td>0</td>\n",
              "    </tr>\n",
              "    <tr>\n",
              "      <th>3</th>\n",
              "      <td>3</td>\n",
              "      <td>0</td>\n",
              "      <td>0</td>\n",
              "    </tr>\n",
              "    <tr>\n",
              "      <th>4</th>\n",
              "      <td>4</td>\n",
              "      <td>0</td>\n",
              "      <td>0</td>\n",
              "    </tr>\n",
              "  </tbody>\n",
              "</table>\n",
              "</div>"
            ],
            "text/plain": [
              "   id  sepal width (cm)  petal width (cm)\n",
              "0   0                 0                 0\n",
              "1   1                 0                 0\n",
              "2   2                 0                 0\n",
              "3   3                 0                 0\n",
              "4   4                 0                 0"
            ]
          },
          "metadata": {},
          "execution_count": 13
        }
      ]
    },
    {
      "cell_type": "code",
      "metadata": {
        "colab": {
          "base_uri": "https://localhost:8080/",
          "height": 423
        },
        "id": "s-wXQ_WC4EI4",
        "outputId": "5f6e2bb4-7c78-4246-ba69-0e590834869d"
      },
      "source": [
        "# 위에서 구한 예측값을 그대로 넣어줍니다.\n",
        "submission['sepal width (cm)'] = predict_sepal_width\n",
        "submission['petal width (cm)'] = predict_petal_width\n",
        "\n",
        "# 데이터가 잘 들어갔는지 확인합니다.\n",
        "submission"
      ],
      "execution_count": null,
      "outputs": [
        {
          "output_type": "execute_result",
          "data": {
            "text/html": [
              "<div>\n",
              "<style scoped>\n",
              "    .dataframe tbody tr th:only-of-type {\n",
              "        vertical-align: middle;\n",
              "    }\n",
              "\n",
              "    .dataframe tbody tr th {\n",
              "        vertical-align: top;\n",
              "    }\n",
              "\n",
              "    .dataframe thead th {\n",
              "        text-align: right;\n",
              "    }\n",
              "</style>\n",
              "<table border=\"1\" class=\"dataframe\">\n",
              "  <thead>\n",
              "    <tr style=\"text-align: right;\">\n",
              "      <th></th>\n",
              "      <th>id</th>\n",
              "      <th>sepal width (cm)</th>\n",
              "      <th>petal width (cm)</th>\n",
              "    </tr>\n",
              "  </thead>\n",
              "  <tbody>\n",
              "    <tr>\n",
              "      <th>0</th>\n",
              "      <td>0</td>\n",
              "      <td>2.672</td>\n",
              "      <td>0.448</td>\n",
              "    </tr>\n",
              "    <tr>\n",
              "      <th>1</th>\n",
              "      <td>1</td>\n",
              "      <td>2.568</td>\n",
              "      <td>0.448</td>\n",
              "    </tr>\n",
              "    <tr>\n",
              "      <th>2</th>\n",
              "      <td>2</td>\n",
              "      <td>2.464</td>\n",
              "      <td>0.416</td>\n",
              "    </tr>\n",
              "    <tr>\n",
              "      <th>3</th>\n",
              "      <td>3</td>\n",
              "      <td>2.412</td>\n",
              "      <td>0.480</td>\n",
              "    </tr>\n",
              "    <tr>\n",
              "      <th>4</th>\n",
              "      <td>4</td>\n",
              "      <td>2.620</td>\n",
              "      <td>0.448</td>\n",
              "    </tr>\n",
              "    <tr>\n",
              "      <th>...</th>\n",
              "      <td>...</td>\n",
              "      <td>...</td>\n",
              "      <td>...</td>\n",
              "    </tr>\n",
              "    <tr>\n",
              "      <th>70</th>\n",
              "      <td>70</td>\n",
              "      <td>3.088</td>\n",
              "      <td>1.536</td>\n",
              "    </tr>\n",
              "    <tr>\n",
              "      <th>71</th>\n",
              "      <td>71</td>\n",
              "      <td>3.192</td>\n",
              "      <td>1.280</td>\n",
              "    </tr>\n",
              "    <tr>\n",
              "      <th>72</th>\n",
              "      <td>72</td>\n",
              "      <td>3.296</td>\n",
              "      <td>1.568</td>\n",
              "    </tr>\n",
              "    <tr>\n",
              "      <th>73</th>\n",
              "      <td>73</td>\n",
              "      <td>3.192</td>\n",
              "      <td>1.504</td>\n",
              "    </tr>\n",
              "    <tr>\n",
              "      <th>74</th>\n",
              "      <td>74</td>\n",
              "      <td>3.348</td>\n",
              "      <td>1.376</td>\n",
              "    </tr>\n",
              "  </tbody>\n",
              "</table>\n",
              "<p>75 rows × 3 columns</p>\n",
              "</div>"
            ],
            "text/plain": [
              "    id  sepal width (cm)  petal width (cm)\n",
              "0    0             2.672             0.448\n",
              "1    1             2.568             0.448\n",
              "2    2             2.464             0.416\n",
              "3    3             2.412             0.480\n",
              "4    4             2.620             0.448\n",
              "..  ..               ...               ...\n",
              "70  70             3.088             1.536\n",
              "71  71             3.192             1.280\n",
              "72  72             3.296             1.568\n",
              "73  73             3.192             1.504\n",
              "74  74             3.348             1.376\n",
              "\n",
              "[75 rows x 3 columns]"
            ]
          },
          "metadata": {},
          "execution_count": 14
        }
      ]
    },
    {
      "cell_type": "code",
      "metadata": {
        "id": "JrS8eU6Z4EI4"
      },
      "source": [
        "# submission을 csv 파일로 저장합니다.\n",
        "# index=False란 추가적인 id를 부여할 필요가 없다는 뜻입니다. \n",
        "# 정확한 채점을 위해 꼭 index=False를 넣어주세요.\n",
        "submission.to_csv(\"submission.csv\", index=False)"
      ],
      "execution_count": null,
      "outputs": []
    },
    {
      "cell_type": "markdown",
      "metadata": {
        "id": "Ssaa9Zjl4EI4"
      },
      "source": [
        "이렇게 생성된 submission.csv 파일을 데이콘 대회 페이지에 업로드 & 제출하여 결과를 확인하세요"
      ]
    },
    {
      "cell_type": "markdown",
      "metadata": {
        "id": "agGJcebK4EI5"
      },
      "source": [
        "# 축하합니다! 데이터 분석을 완료하셨습니다!\n",
        "\n",
        "데이터 분석의 첫걸음을 떼신 것을 축하드립니다.\n",
        "\n",
        "보셨다시피 데이터 분석은 그렇게 어렵지 않습니다.\n",
        "\n",
        "데이터들 사이의 관계를 찾아서, 그 관계를 통해 주어지지 않은 정보를 예측할 뿐입니다.\n",
        "\n",
        "고도의 기술을 사용하면 이 예측값이 조금 더 정확해질뿐, 기본적인 개념은 바뀌지 않습니다.\n",
        "\n",
        "앞으로도 데이콘과 함께 즐겁게 데이터 분석 능력을 키워가시면 좋겠습니다.\n",
        "\n",
        "감사합니다."
      ]
    },
    {
      "cell_type": "markdown",
      "metadata": {
        "id": "NPadNJ624EI5"
      },
      "source": [
        "# (한 걸음 더) 방정식으로 모델 학습 맛보기\n",
        "\n",
        "머신러닝, 딥러닝을 얼핏 들어보면 \"모델 학습\"이라는 용어가 자주 등장합니다.\n",
        "\n",
        "모델 학습이란 무엇일까요?\n",
        "\n",
        "우리가 위에서 구한 방정식으로 모델 학습을 이해해봅시다."
      ]
    },
    {
      "cell_type": "markdown",
      "metadata": {
        "id": "q62NkwH24EI5"
      },
      "source": [
        "간단하게 sepal length를 이용해 sepal width를 구한 방정식을 이용해보도록 하겠습니다.\n",
        "\n",
        "Y = 0.5 X - 0.06\n",
        "\n",
        "위 식을 이용했을 때 평균 에러는 0.43 이었습니다.\n",
        "\n",
        "이보다 더 적은 에러를 내는, 더 정확한 식은 어떻게 찾을 수 있을까요?\n",
        "\n",
        "\n",
        "\n",
        "이 방정식의 a와 b를 변화시키면서 더 정확한 식을 찾아봅시다."
      ]
    },
    {
      "cell_type": "code",
      "metadata": {
        "id": "b6c4K84g4EI6"
      },
      "source": [
        "# 탐색할 a와 b의 후보들을 마련합니다.\n",
        "a_list = [0.50, 0.51, 0.52, 0.53, 0.54] # 0.01 단위로 변화\n",
        "b_list = [0.018, 0.019, 0.02, 0.021, 0.022] # 0.001 단위로 변화"
      ],
      "execution_count": null,
      "outputs": []
    },
    {
      "cell_type": "code",
      "metadata": {
        "colab": {
          "base_uri": "https://localhost:8080/"
        },
        "id": "tCXEj7rp4EI6",
        "outputId": "5d7ba011-efa4-4698-9659-2377b14a7fc4"
      },
      "source": [
        "# 각각의 후보자들 중에서 가장 에러가 적은 후보를 고르는 함수를 작성합니다.\n",
        "def find_best_params(sepal_length, sepal_width):\n",
        "    min_error = 999\n",
        "\n",
        "    for a in a_list:\n",
        "        for b in b_list:\n",
        "            predict = a * sepal_length + b\n",
        "            error = MAE(sepal_width, predict)\n",
        "            \n",
        "            if error < min_error:\n",
        "                print(\"모델 개선이 가능합니다.\")\n",
        "                print(f\"a={a}, b={b}\")\n",
        "                print(f\"error={error:.5f}\")\n",
        "                min_error = error\n",
        "                coef, bias = a,b\n",
        "                \n",
        "    print(f\"최적의 parameter는 a = {coef}, b = {bias}\\n이때 평균 에러는 {min_error:.2f} 입니다.\")\n",
        "    return coef, bias, min_error\n",
        "\n",
        "a,b, error = find_best_params(sepal_length, sepal_width)\n",
        "print(\"기존 방정식의 평균 에러 : 0.55\")\n",
        "print(f\"모델 성능 개선 : {0.55 - error:.2f}\")"
      ],
      "execution_count": null,
      "outputs": [
        {
          "output_type": "stream",
          "name": "stdout",
          "text": [
            "모델 개선이 가능합니다.\n",
            "a=0.5, b=0.018\n",
            "error=0.51983\n",
            "최적의 parameter는 a = 0.5, b = 0.018\n",
            "이때 평균 에러는 0.52 입니다.\n",
            "기존 방정식의 평균 에러 : 0.55\n",
            "모델 성능 개선 : 0.03\n"
          ]
        }
      ]
    },
    {
      "cell_type": "markdown",
      "metadata": {
        "id": "Ij4bFXEt4EI7"
      },
      "source": [
        "이런 식으로 더 정확한 예측 값을 구하도록 최적의 a와 b라는 best parameter를 찾아가는 과정이 학습입니다.\n",
        "\n",
        "머신러닝에서는 이 학습 과정이 자동으로 이루어지도록 짜여집니다.\n",
        "\n",
        "이 방법을 이용해서 더 정확한 방정식을 찾아서 성능을 개선하고,\n",
        "\n",
        "찾은 방법을 코드 공유 게시판에 올려주세요!\n",
        "\n",
        "좋아요를 많이 받으시는 분께는 데이콘 후드를 드립니다!\n",
        "\n",
        "감사합니다!"
      ]
    }
  ]
}